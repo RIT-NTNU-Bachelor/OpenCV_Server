{
 "cells": [
  {
   "cell_type": "markdown",
   "metadata": {},
   "source": [
    "# Testing workflow \n",
    "\n",
    "This file is for testing that the workflow works. It should run all code: "
   ]
  },
  {
   "cell_type": "code",
   "execution_count": 1,
   "metadata": {
    "execution": {
     "iopub.execute_input": "2024-03-31T23:50:12.334552Z",
     "iopub.status.busy": "2024-03-31T23:50:12.334347Z",
     "iopub.status.idle": "2024-03-31T23:50:12.993418Z",
     "shell.execute_reply": "2024-03-31T23:50:12.992728Z"
    }
   },
   "outputs": [],
   "source": [
    "# Importing packages for CV2, DLIB and Plotting \n",
    "import cv2\n",
    "import dlib\n",
    "import matplotlib.pyplot as pyplot\n",
    "\n",
    "# For benchmarking the process of generating the graph\n",
    "import time\n",
    "\n",
    "# For creating the progress bar when looping over the dataset\n",
    "from tqdm.notebook import tqdm"
   ]
  },
  {
   "cell_type": "code",
   "execution_count": 2,
   "metadata": {
    "execution": {
     "iopub.execute_input": "2024-03-31T23:50:12.996507Z",
     "iopub.status.busy": "2024-03-31T23:50:12.996047Z",
     "iopub.status.idle": "2024-03-31T23:50:12.999956Z",
     "shell.execute_reply": "2024-03-31T23:50:12.999305Z"
    }
   },
   "outputs": [
    {
     "name": "stdout",
     "output_type": "stream",
     "text": [
      "Hello World\n"
     ]
    }
   ],
   "source": [
    "print(\"Hello World\")"
   ]
  }
 ],
 "metadata": {
  "kernelspec": {
   "display_name": "venv",
   "language": "python",
   "name": "python3"
  },
  "language_info": {
   "codemirror_mode": {
    "name": "ipython",
    "version": 3
   },
   "file_extension": ".py",
   "mimetype": "text/x-python",
   "name": "python",
   "nbconvert_exporter": "python",
   "pygments_lexer": "ipython3",
   "version": "3.10.14"
  }
 },
 "nbformat": 4,
 "nbformat_minor": 2
}
